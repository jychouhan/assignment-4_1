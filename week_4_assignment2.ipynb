{
 "cells": [
  {
   "cell_type": "code",
   "execution_count": 1,
   "id": "33a4b3e0-29ed-4fd6-b3bc-6178237471c2",
   "metadata": {},
   "outputs": [],
   "source": [
    "# Answer1"
   ]
  },
  {
   "cell_type": "code",
   "execution_count": 2,
   "id": "f1b530c9-05fb-4a30-b1a6-f6717e92b5c8",
   "metadata": {},
   "outputs": [
    {
     "data": {
      "text/plain": [
       "' A class is a blueprint or template that defines the characterstics and behaviors that objects of class will have. it serves as a blueprint for creating objects. an object is an instance of a class, means it is created based on the class deinition'"
      ]
     },
     "execution_count": 2,
     "metadata": {},
     "output_type": "execute_result"
    }
   ],
   "source": [
    "\"\"\" A class is a blueprint or template that defines the characterstics and behaviors that objects of class will have. it serves as a blueprint for creating objects. an object is an instance of a class, means it is created based on the class deinition\"\"\""
   ]
  },
  {
   "cell_type": "code",
   "execution_count": 3,
   "id": "63d6ba41-f1e2-4cd0-a831-8e75c621e65c",
   "metadata": {},
   "outputs": [],
   "source": [
    "class student:\n",
    "    def __init__(self, name, sex, age):\n",
    "        self.name = name\n",
    "        self.sex = sex\n",
    "        self.age = age\n",
    "        \n",
    "        \n",
    "    def st_details(self):\n",
    "        return self.name, self.sex, self.age"
   ]
  },
  {
   "cell_type": "code",
   "execution_count": 4,
   "id": "85c85c78-f09e-4b7c-9edf-d3d746c8aff8",
   "metadata": {},
   "outputs": [],
   "source": [
    "# creating objects of class student\n",
    "st = student(\"rohan\", \"male\", 7)"
   ]
  },
  {
   "cell_type": "code",
   "execution_count": 5,
   "id": "d8ba5547-f86e-4495-9dcd-1fa71aa20b7f",
   "metadata": {},
   "outputs": [
    {
     "data": {
      "text/plain": [
       "7"
      ]
     },
     "execution_count": 5,
     "metadata": {},
     "output_type": "execute_result"
    }
   ],
   "source": [
    "# accessing object attributes\n",
    "st.age"
   ]
  },
  {
   "cell_type": "code",
   "execution_count": 6,
   "id": "8e7bf463-c536-49f6-a03e-8d493d862f46",
   "metadata": {},
   "outputs": [
    {
     "data": {
      "text/plain": [
       "('rohan', 'male', 7)"
      ]
     },
     "execution_count": 6,
     "metadata": {},
     "output_type": "execute_result"
    }
   ],
   "source": [
    "# calling objects method\n",
    "st.st_details()"
   ]
  },
  {
   "cell_type": "code",
   "execution_count": 7,
   "id": "0eaea955-6998-486a-ae1d-1161449eac38",
   "metadata": {},
   "outputs": [],
   "source": [
    "# Answer2"
   ]
  },
  {
   "cell_type": "code",
   "execution_count": 8,
   "id": "e52fcdec-a4d6-4f83-8555-c47968bf6fea",
   "metadata": {},
   "outputs": [
    {
     "data": {
      "text/plain": [
       "' four piller of oops are 1. encapsulation 2. inheritance 3. abstraction 4. polymorphism'"
      ]
     },
     "execution_count": 8,
     "metadata": {},
     "output_type": "execute_result"
    }
   ],
   "source": [
    "\"\"\" four piller of oops are 1. encapsulation 2. inheritance 3. abstraction 4. polymorphism\"\"\""
   ]
  },
  {
   "cell_type": "code",
   "execution_count": 9,
   "id": "36c40a87-cabf-4f55-99e8-25af101be172",
   "metadata": {},
   "outputs": [],
   "source": [
    "# Answer3"
   ]
  },
  {
   "cell_type": "code",
   "execution_count": 10,
   "id": "acce3dd3-2108-4331-8f31-0a59036978f1",
   "metadata": {},
   "outputs": [
    {
     "data": {
      "text/plain": [
       "' The __init__ function is a special method that is automatically called when an object of a class is created. It is also known as the constructor method. the primary purpose of the __init__ method is to initialize the attributes of an object. By using __init__ method we can set initial attribute values conveniently and consistently for each object created from the class.'"
      ]
     },
     "execution_count": 10,
     "metadata": {},
     "output_type": "execute_result"
    }
   ],
   "source": [
    "\"\"\" The __init__ function is a special method that is automatically called when an object of a class is created. It is also known as the constructor method. the primary purpose of the __init__ method is to initialize the attributes of an object. By using __init__ method we can set initial attribute values conveniently and consistently for each object created from the class.\"\"\""
   ]
  },
  {
   "cell_type": "code",
   "execution_count": 11,
   "id": "4506f4a2-16a0-493e-9546-e059ee4e8566",
   "metadata": {},
   "outputs": [],
   "source": [
    "class school:\n",
    "    def __init__ (self, name, no_of_students, no_of_teacher):\n",
    "        self.name = name\n",
    "        self.no_of_students = no_of_students\n",
    "        self.no_of_teacher = no_of_teacher\n",
    "        \n",
    "    def school_details(self):\n",
    "        print(self.name, self.no_of_students, self.no_of_teacher)"
   ]
  },
  {
   "cell_type": "code",
   "execution_count": 12,
   "id": "a21842dd-c484-4912-8be3-249456d921d9",
   "metadata": {},
   "outputs": [],
   "source": [
    "sch = school(\"KPS\", 500, 20)"
   ]
  },
  {
   "cell_type": "code",
   "execution_count": 13,
   "id": "6c27e21b-c5c7-44f1-9713-2f8d72aad14b",
   "metadata": {},
   "outputs": [],
   "source": [
    "sch1 = school(\"MPS\", 800, 40)"
   ]
  },
  {
   "cell_type": "code",
   "execution_count": 14,
   "id": "898e1549-54d7-446c-b428-c9139defbf71",
   "metadata": {},
   "outputs": [
    {
     "data": {
      "text/plain": [
       "500"
      ]
     },
     "execution_count": 14,
     "metadata": {},
     "output_type": "execute_result"
    }
   ],
   "source": [
    "sch.no_of_students"
   ]
  },
  {
   "cell_type": "code",
   "execution_count": 15,
   "id": "d832b355-ef4f-4dc7-8bbb-740fafe94e2a",
   "metadata": {},
   "outputs": [
    {
     "name": "stdout",
     "output_type": "stream",
     "text": [
      "KPS 500 20\n"
     ]
    }
   ],
   "source": [
    "sch.school_details()"
   ]
  },
  {
   "cell_type": "code",
   "execution_count": 16,
   "id": "fc47e431-cf89-4148-8df6-85ee7b1e743b",
   "metadata": {},
   "outputs": [],
   "source": [
    "# Answer4"
   ]
  },
  {
   "cell_type": "code",
   "execution_count": 17,
   "id": "4226b7ef-56c2-41ab-a935-3c3234ce5939",
   "metadata": {},
   "outputs": [
    {
     "data": {
      "text/plain": [
       "' self is used as a conventional name for the first parameter of a method within a classs. it is reference to the instance of the class itself, and it is used to access the attributes and methods of that instance. self is used for instance bound, attribute access, method invocation. and object identity.'"
      ]
     },
     "execution_count": 17,
     "metadata": {},
     "output_type": "execute_result"
    }
   ],
   "source": [
    "\"\"\" self is used as a conventional name for the first parameter of a method within a classs. it is reference to the instance of the class itself, and it is used to access the attributes and methods of that instance. self is used for instance bound, attribute access, method invocation. and object identity.\"\"\""
   ]
  },
  {
   "cell_type": "code",
   "execution_count": 18,
   "id": "3ed309fd-7713-499e-809f-aab774f19f24",
   "metadata": {},
   "outputs": [],
   "source": [
    "# Answer5"
   ]
  },
  {
   "cell_type": "code",
   "execution_count": 19,
   "id": "77eb8627-be50-45d6-a9ae-702bf858d98a",
   "metadata": {},
   "outputs": [
    {
     "data": {
      "text/plain": [
       "' Inheritance is a fundamental concept in object oriented programming that allows a class to inherit properties from the another class.there are five types of inheritance, namely single inheritance, multiple inheritance, multilevel inheritance, hierarchical inheritance and hybrid inheritance.'"
      ]
     },
     "execution_count": 19,
     "metadata": {},
     "output_type": "execute_result"
    }
   ],
   "source": [
    "\"\"\" Inheritance is a fundamental concept in object oriented programming that allows a class to inherit properties from the another class.there are five types of inheritance, namely single inheritance, multiple inheritance, multilevel inheritance, hierarchical inheritance and hybrid inheritance.\"\"\""
   ]
  },
  {
   "cell_type": "code",
   "execution_count": 20,
   "id": "b9759f85-c061-4282-a053-c9b2b79bbc8f",
   "metadata": {},
   "outputs": [],
   "source": [
    "# single inheritance\n",
    "class animal:\n",
    "    def __init__ (self, name):\n",
    "        self.name = name\n",
    "        \n",
    "    def animal_name(self):\n",
    "        return self.name\n",
    "        "
   ]
  },
  {
   "cell_type": "code",
   "execution_count": 21,
   "id": "3993585c-d91f-4d3d-a589-e9e14049a733",
   "metadata": {},
   "outputs": [],
   "source": [
    "class lion(animal):\n",
    "    def sound(self):\n",
    "        print(\"lion roars\")"
   ]
  },
  {
   "cell_type": "code",
   "execution_count": 22,
   "id": "dd1eb515-12b6-4b46-b181-cb66eff27a35",
   "metadata": {},
   "outputs": [],
   "source": [
    "name = lion(\"chetak\")"
   ]
  },
  {
   "cell_type": "code",
   "execution_count": 23,
   "id": "9de88418-892b-41a1-96d4-2fa446633f4b",
   "metadata": {},
   "outputs": [
    {
     "data": {
      "text/plain": [
       "'chetak'"
      ]
     },
     "execution_count": 23,
     "metadata": {},
     "output_type": "execute_result"
    }
   ],
   "source": [
    "name.animal_name()"
   ]
  },
  {
   "cell_type": "code",
   "execution_count": 24,
   "id": "2d5d5d77-a880-46ed-935a-d29d825f6f92",
   "metadata": {},
   "outputs": [
    {
     "name": "stdout",
     "output_type": "stream",
     "text": [
      "lion roars\n"
     ]
    }
   ],
   "source": [
    "name.sound()"
   ]
  },
  {
   "cell_type": "code",
   "execution_count": 25,
   "id": "5ffabebd-2438-4c24-9f4c-25ce5110278f",
   "metadata": {},
   "outputs": [
    {
     "data": {
      "text/plain": [
       "'chetak'"
      ]
     },
     "execution_count": 25,
     "metadata": {},
     "output_type": "execute_result"
    }
   ],
   "source": [
    "name.name"
   ]
  },
  {
   "cell_type": "code",
   "execution_count": 26,
   "id": "9a5dee84-94a9-45d2-adec-7f00c07f3b68",
   "metadata": {},
   "outputs": [],
   "source": [
    "# multiple inheritance\n",
    "class son:\n",
    "    def son_details(self):\n",
    "        print(\"absent\")"
   ]
  },
  {
   "cell_type": "code",
   "execution_count": 27,
   "id": "dea52a1c-08fa-42f0-8e8a-98dd5b9596f4",
   "metadata": {},
   "outputs": [],
   "source": [
    "class daughter:\n",
    "    def daughter_details(self):\n",
    "        print(\"good performance\")"
   ]
  },
  {
   "cell_type": "code",
   "execution_count": 28,
   "id": "11716c2c-52b5-457b-8723-0fd546044ee9",
   "metadata": {},
   "outputs": [],
   "source": [
    "class father(son, daughter):\n",
    "    pass"
   ]
  },
  {
   "cell_type": "code",
   "execution_count": 29,
   "id": "68387726-c35f-4b4d-8586-78a7cc84d6b0",
   "metadata": {},
   "outputs": [],
   "source": [
    "fthr = father()"
   ]
  },
  {
   "cell_type": "code",
   "execution_count": 30,
   "id": "c7a8b7dd-a9e2-467a-af0c-e02d32611dbe",
   "metadata": {},
   "outputs": [
    {
     "name": "stdout",
     "output_type": "stream",
     "text": [
      "good performance\n"
     ]
    }
   ],
   "source": [
    "fthr.daughter_details()"
   ]
  },
  {
   "cell_type": "code",
   "execution_count": 31,
   "id": "c77a7b06-92c9-46cc-b437-65c141da5ab6",
   "metadata": {},
   "outputs": [
    {
     "name": "stdout",
     "output_type": "stream",
     "text": [
      "absent\n"
     ]
    }
   ],
   "source": [
    "fthr.son_details()"
   ]
  },
  {
   "cell_type": "code",
   "execution_count": 32,
   "id": "b00f96f4-566a-4d62-a78c-868c409e6f26",
   "metadata": {},
   "outputs": [],
   "source": [
    "# multileve inheritance\n",
    "class dog:\n",
    "    def dog_details(self):\n",
    "        print(\"dog barks\")"
   ]
  },
  {
   "cell_type": "code",
   "execution_count": 33,
   "id": "b516262d-8a63-4cc9-bc88-cdc3eee643c1",
   "metadata": {},
   "outputs": [],
   "source": [
    "class cat(dog):\n",
    "    def cat_details(self):\n",
    "        print(\"cat mews\")"
   ]
  },
  {
   "cell_type": "code",
   "execution_count": 34,
   "id": "74a367b2-55d9-4581-b6e6-6f4d3f3eb9f1",
   "metadata": {},
   "outputs": [],
   "source": [
    "class cow(cat):\n",
    "    def cow_details(self):\n",
    "        print(\"cow moo\")"
   ]
  },
  {
   "cell_type": "code",
   "execution_count": 35,
   "id": "5fc4c01d-ec62-4b65-a2ad-7e85c6868a27",
   "metadata": {},
   "outputs": [],
   "source": [
    "class diff_animal(cow):\n",
    "    def animal_details(self):\n",
    "        print(\"animal sounds name\")"
   ]
  },
  {
   "cell_type": "code",
   "execution_count": 36,
   "id": "54720527-bd9c-4a0f-abbb-5db63b58db06",
   "metadata": {},
   "outputs": [],
   "source": [
    "animals = diff_animal()"
   ]
  },
  {
   "cell_type": "code",
   "execution_count": 37,
   "id": "00ec9113-1857-45e3-9755-ef837706d1bc",
   "metadata": {},
   "outputs": [
    {
     "name": "stdout",
     "output_type": "stream",
     "text": [
      "cat mews\n"
     ]
    }
   ],
   "source": [
    "animals.cat_details()"
   ]
  },
  {
   "cell_type": "code",
   "execution_count": 38,
   "id": "6d27defa-a3a0-4fbc-b07a-c91489e89cfa",
   "metadata": {},
   "outputs": [],
   "source": [
    "# hybrid inheritance\n",
    "class goat:\n",
    "    def eat(self):\n",
    "        print(\"eats grass\")"
   ]
  },
  {
   "cell_type": "code",
   "execution_count": 39,
   "id": "edec8d1d-5a05-4775-8803-18dcdb2318cb",
   "metadata": {},
   "outputs": [],
   "source": [
    "class mammal(goat):\n",
    "    def breed(self):\n",
    "        print(\"goat breeds\")"
   ]
  },
  {
   "cell_type": "code",
   "execution_count": 40,
   "id": "1473e932-ec4f-4057-9ac0-683e5741d699",
   "metadata": {},
   "outputs": [],
   "source": [
    "class category(mammal):\n",
    "    def cat_name(self):\n",
    "        print(\"animal\")"
   ]
  },
  {
   "cell_type": "code",
   "execution_count": 41,
   "id": "fa8978e6-7f4a-476f-a605-b25c82c28a62",
   "metadata": {},
   "outputs": [],
   "source": [
    "class information(category, mammal):\n",
    "    def size(self):\n",
    "        print(\"medium size\")\n",
    "        "
   ]
  },
  {
   "cell_type": "code",
   "execution_count": 42,
   "id": "56c89ba3-6cd6-4663-b12a-8edead67ec59",
   "metadata": {},
   "outputs": [],
   "source": [
    "info = information()"
   ]
  },
  {
   "cell_type": "code",
   "execution_count": 43,
   "id": "49913a47-60a9-4401-a753-628af44ca937",
   "metadata": {},
   "outputs": [
    {
     "name": "stdout",
     "output_type": "stream",
     "text": [
      "eats grass\n"
     ]
    }
   ],
   "source": [
    "info.eat()"
   ]
  },
  {
   "cell_type": "code",
   "execution_count": 44,
   "id": "e969f1ee-f929-4a7e-a191-60c06ec22dd4",
   "metadata": {},
   "outputs": [],
   "source": [
    "# hierarchical inheritance\n",
    "class fruits:\n",
    "    def type(self):\n",
    "        print(\"fruits are eatable\")"
   ]
  },
  {
   "cell_type": "code",
   "execution_count": 45,
   "id": "4052d6b3-1796-46b9-9a91-8ed38f83fabc",
   "metadata": {},
   "outputs": [],
   "source": [
    "class fruit_name(fruits):\n",
    "    def name(self):\n",
    "        print(\"apple\")"
   ]
  },
  {
   "cell_type": "code",
   "execution_count": 46,
   "id": "ef294aae-2bb5-4a13-9b77-dfdd11e08bd3",
   "metadata": {},
   "outputs": [],
   "source": [
    "class fruit_color(fruits):\n",
    "    def color(self):\n",
    "        print(\"red\")"
   ]
  },
  {
   "cell_type": "code",
   "execution_count": 47,
   "id": "735a4445-fc7d-4e94-8a12-0d1d869f00f9",
   "metadata": {},
   "outputs": [],
   "source": [
    "frt_name = fruit_name()"
   ]
  },
  {
   "cell_type": "code",
   "execution_count": 48,
   "id": "f25a9fa4-2b11-4fef-90dd-d81c28c5edd0",
   "metadata": {},
   "outputs": [],
   "source": [
    "frt_clr = fruit_color()"
   ]
  },
  {
   "cell_type": "code",
   "execution_count": 49,
   "id": "f04d4e4f-4014-48cc-b4d1-d0e608c39b90",
   "metadata": {},
   "outputs": [
    {
     "name": "stdout",
     "output_type": "stream",
     "text": [
      "fruits are eatable\n"
     ]
    }
   ],
   "source": [
    "frt_name.type()"
   ]
  },
  {
   "cell_type": "code",
   "execution_count": 50,
   "id": "73471d0d-80bd-468d-8bd6-0b0cfdbfd6a9",
   "metadata": {},
   "outputs": [
    {
     "name": "stdout",
     "output_type": "stream",
     "text": [
      "red\n"
     ]
    }
   ],
   "source": [
    "frt_clr.color()"
   ]
  }
 ],
 "metadata": {
  "kernelspec": {
   "display_name": "Python 3 (ipykernel)",
   "language": "python",
   "name": "python3"
  },
  "language_info": {
   "codemirror_mode": {
    "name": "ipython",
    "version": 3
   },
   "file_extension": ".py",
   "mimetype": "text/x-python",
   "name": "python",
   "nbconvert_exporter": "python",
   "pygments_lexer": "ipython3",
   "version": "3.10.8"
  }
 },
 "nbformat": 4,
 "nbformat_minor": 5
}
